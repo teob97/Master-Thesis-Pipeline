{
 "cells": [
  {
   "cell_type": "code",
   "execution_count": null,
   "metadata": {},
   "outputs": [],
   "source": [
    "using thesis, PRMaps\n",
    "using Healpix\n",
    "using Plots\n",
    "using Statistics\n",
    "using LsqFit\n",
    "\n",
    "import Stripeline as Sl\n",
    "import Pandas as Pd"
   ]
  },
  {
   "cell_type": "code",
   "execution_count": null,
   "metadata": {},
   "outputs": [],
   "source": [
    "function run_scaling(\n",
    "    tel_angles,\n",
    "    sky_model::String,\n",
    "    nside::Int\n",
    ")\n",
    "    \n",
    "    strip = Pd.query(Pd.read_pickle(\"../instruments/lspe_strip_instrument.pkl\"), :(frequency==43.0))\n",
    "    signal = get_foreground_maps(strip, sky_model, nside)[1]\n",
    "\n",
    "    camera = Sl.CameraAngles()\n",
    "    obs_ideal, _ = makeIdealMapIQU(camera, signal, setup)\n",
    "    \n",
    "    obs_errored = PolarizedHealpixMap[]\n",
    "\n",
    "    for i in tel_angles\n",
    "        m, _ = makeErroredMapIQU(camera, i, signal, setup)\n",
    "        push!(obs_errored, m)\n",
    "    end\n",
    "\n",
    "    error_i = [ (errored.i-obs_ideal.i) for errored in obs_errored]\n",
    "    error_q = [ (errored.q-obs_ideal.q) for errored in obs_errored]\n",
    "    error_u = [ (errored.u-obs_ideal.u) for errored in obs_errored]\n",
    "\n",
    "    error_i_hist = [ i[isfinite.(i)] for i in error_i]\n",
    "    error_q_hist = [ i[isfinite.(i)] for i in error_q]\n",
    "    error_u_hist = [ i[isfinite.(i)] for i in error_u]\n",
    "\n",
    "    std_error_i = [ std(i) for i in error_i_hist ]\n",
    "    std_error_q = [ std(i) for i in error_q_hist ]\n",
    "    std_error_u = [ std(i) for i in error_u_hist ]\n",
    "\n",
    "    return (std_error_i, std_error_q, std_error_u)\n",
    "\n",
    "end"
   ]
  },
  {
   "cell_type": "code",
   "execution_count": null,
   "metadata": {},
   "outputs": [],
   "source": [
    "nside = 512\n",
    "sky_model = \"c1s0d0\"\n",
    "obs_days = 5\n",
    " \n",
    "setup = PRMaps.Setup(\n",
    "    sampling_freq_Hz = 50,\n",
    "    total_time_s = 24. * 3600. * obs_days\n",
    "    )\n",
    "nothing"
   ]
  },
  {
   "cell_type": "code",
   "execution_count": null,
   "metadata": {},
   "outputs": [],
   "source": [
    "errored_angles_deg = [0.01, 0.03, 0.1, 0.3, 1.0, 3.0]\n",
    "omega_wobble_deg = [0.0, 90.0, 180.0, 270.0]\n",
    "\n",
    "xdata = log10.(range(0.01, stop=maximum(errored_angles_deg)+1, length=10000))\n",
    "\n",
    "nothing"
   ]
  },
  {
   "attachments": {},
   "cell_type": "markdown",
   "metadata": {},
   "source": [
    "# Altitude offset angle"
   ]
  },
  {
   "cell_type": "code",
   "execution_count": null,
   "metadata": {},
   "outputs": [],
   "source": [
    "tel_angs_altitude = []\n",
    "for i in errored_angles_deg\n",
    "    push!(tel_angs_altitude, Sl.TelescopeAngles(wheel2ang_0_rad = deg2rad(i)))\n",
    "end\n",
    "result_altitude = run_scaling(tel_angs_altitude, sky_model, nside)\n",
    "nothing"
   ]
  },
  {
   "attachments": {},
   "cell_type": "markdown",
   "metadata": {},
   "source": [
    "L'errore è fittato con la seguente funzione:\n",
    "\n",
    "$\\log\\epsilon = p_1 \\log^2 x + p_2 \\log x + p_3$\n",
    "\n",
    "con x l'angolo di non idealità."
   ]
  },
  {
   "cell_type": "code",
   "execution_count": null,
   "metadata": {},
   "outputs": [],
   "source": [
    "@. model_linear(x,p) = p[1]*x^2 + p[2]*x + p[3]\n",
    "log_error = log10.(result_altitude[2])\n",
    "log_angle = log10.(errored_angles_deg)\n",
    "fit_linear = curve_fit(model_linear, log_angle, log_error, [0.0, 0.5, 1.0])\n",
    "print(fit_linear.param)\n"
   ]
  },
  {
   "cell_type": "code",
   "execution_count": null,
   "metadata": {},
   "outputs": [],
   "source": [
    "scatter(log_angle, log_error, xlabel=\"Non ideality angle [log(degree)]\", ylabel=\"std of the error [log(μK)]\", label = \"Simulated points\")\n",
    "plot!(xdata, model_linear(xdata, fit_linear.param), label = \"Fit curve\", title=\"Altitude angle θ\")"
   ]
  },
  {
   "attachments": {},
   "cell_type": "markdown",
   "metadata": {},
   "source": [
    "# Ground offset angle"
   ]
  },
  {
   "cell_type": "code",
   "execution_count": null,
   "metadata": {},
   "outputs": [],
   "source": [
    "tel_angs_ground = []\n",
    "for i in errored_angles_deg\n",
    "    push!(tel_angs_ground, Sl.TelescopeAngles(wheel3ang_0_rad = deg2rad(i)))\n",
    "end\n",
    "result_ground = run_scaling(tel_angs_ground, sky_model, nside)"
   ]
  },
  {
   "cell_type": "code",
   "execution_count": null,
   "metadata": {},
   "outputs": [],
   "source": [
    "@. model_linear(x,p) = p[1]*x^2 + p[2]*x + p[3]\n",
    "log_error = log10.(result_ground[1])\n",
    "log_angle = log10.(errored_angles_deg)\n",
    "fit_linear = curve_fit(model_linear, log_angle, log_error, [0.0, 0.5, 1.0])\n",
    "print(fit_linear.param)"
   ]
  },
  {
   "cell_type": "code",
   "execution_count": null,
   "metadata": {},
   "outputs": [],
   "source": [
    "scatter(log_angle, log_error, xlabel=\"Non ideality angle [log(degree)]\", ylabel=\"std of the error [log(μK)]\", label = \"Simulated points\")\n",
    "plot!(xdata, model_linear(xdata, fit_linear.param), label = \"Fit curve\", title = \"Ground angle φ\")"
   ]
  },
  {
   "attachments": {},
   "cell_type": "markdown",
   "metadata": {},
   "source": [
    "# Fork angle"
   ]
  },
  {
   "cell_type": "code",
   "execution_count": null,
   "metadata": {},
   "outputs": [],
   "source": [
    "tel_angs_fork = []\n",
    "for i in errored_angles_deg\n",
    "    push!(tel_angs_fork, Sl.TelescopeAngles(forkang_rad = deg2rad(i)))\n",
    "end\n",
    "result_fork = run_scaling(tel_angs_fork, sky_model, nside)"
   ]
  },
  {
   "cell_type": "code",
   "execution_count": null,
   "metadata": {},
   "outputs": [],
   "source": [
    "@. model_linear(x,p) = p[1]*x^2 + p[2]*x + p[3]\n",
    "log_error = log10.(result_fork[1])\n",
    "log_angle = log10.(errored_angles_deg)\n",
    "fit_linear = curve_fit(model_linear, log_angle, log_error, [0.0, 0.5, 1.0])\n",
    "print(fit_linear.param)"
   ]
  },
  {
   "cell_type": "code",
   "execution_count": null,
   "metadata": {},
   "outputs": [],
   "source": [
    "scatter(log_angle, log_error, xlabel=\"Non ideality angle [log(degree)]\", ylabel=\"std of the error [log(μK)]\", label = \"Simulated points\")\n",
    "plot!(xdata, model_linear(xdata, fit_linear.param), label = \"Fit curve\", title = \"Fork angle\")"
   ]
  },
  {
   "attachments": {},
   "cell_type": "markdown",
   "metadata": {},
   "source": [
    "# Wobble angles"
   ]
  },
  {
   "cell_type": "code",
   "execution_count": null,
   "metadata": {},
   "outputs": [],
   "source": [
    "tel_angs_0 = []\n",
    "tel_angs_90 = []\n",
    "tel_angs_180 = []\n",
    "tel_angs_270 = []\n",
    "\n",
    "for i in errored_angles_deg\n",
    "    push!(tel_angs_0, Sl.TelescopeAngles(zVAXang_rad = deg2rad(i), ωVAXang_rad = deg2rad(0.0)))\n",
    "    push!(tel_angs_90, Sl.TelescopeAngles(zVAXang_rad = deg2rad(i), ωVAXang_rad = deg2rad(90.0)))\n",
    "    push!(tel_angs_180, Sl.TelescopeAngles(zVAXang_rad = deg2rad(i), ωVAXang_rad = deg2rad(180.0)))\n",
    "    push!(tel_angs_270, Sl.TelescopeAngles(zVAXang_rad = deg2rad(i), ωVAXang_rad = deg2rad(270.0)))\n",
    "end\n",
    "\n",
    "result_0 = run_scaling(tel_angs_0, sky_model, nside)\n",
    "result_90 = run_scaling(tel_angs_90, sky_model, nside)\n",
    "result_180 = run_scaling(tel_angs_180, sky_model, nside)\n",
    "result_270 = run_scaling(tel_angs_270, sky_model, nside)"
   ]
  },
  {
   "cell_type": "code",
   "execution_count": null,
   "metadata": {},
   "outputs": [],
   "source": [
    "@. model_linear(x,p) = p[1]*x^2 + p[2]*x + p[3]\n",
    "log_angle = log.(errored_angles_deg)\n",
    "\n",
    "log_error_0 = log10.(result_0[1])\n",
    "log_error_90 = log10.(result_90[1])\n",
    "log_error_180 = log10.(result_180[1])\n",
    "log_error_270 = log10.(result_270[1])\n",
    "\n",
    "fit_linear_0 = curve_fit(model_linear, log_angle, log_error_0, [0.0, 1.0, 1.0])\n",
    "fit_linear_90 = curve_fit(model_linear, log_angle, log_error_90, [0.0, 1.0, 1.0])\n",
    "fit_linear_180 = curve_fit(model_linear, log_angle, log_error_180, [0.0, 1.0, 1.0])\n",
    "fit_linear_270 = curve_fit(model_linear, log_angle, log_error_270, [0.0, 1.0, 1.0])\n",
    "\n",
    "print(fit_linear_0.param)\n",
    "print(fit_linear_90.param)\n",
    "print(fit_linear_180.param)\n",
    "print(fit_linear_270.param)"
   ]
  },
  {
   "cell_type": "code",
   "execution_count": null,
   "metadata": {},
   "outputs": [],
   "source": [
    "\n",
    "a = scatter(log_angle, log_error_0, xlabel=\"Non ideality angle [log(degree)]\", ylabel=\"std of the error [log(μK)]\", label = \"Simulated points ω=0°\")\n",
    "a = plot!(xdata, model_linear(xdata, fit_linear_0.param), label = \"Fit curve\")\n",
    "\n",
    "b = scatter(log_angle, log_error_90, xlabel=\"Non ideality angle [log(degree)]\", ylabel=\"std of the error [log(μK)]\", label = \"Simulated points ω=90°\")\n",
    "b = plot!(xdata, model_linear(xdata, fit_linear_90.param), label = \"Fit curve\")\n",
    "\n",
    "c = scatter(log_angle, log_error_180, xlabel=\"Non ideality angle [log(degree)]\", ylabel=\"std of the error [log(μK)]\", label = \"Simulated points ω=180°\")\n",
    "c = plot!(xdata, model_linear(xdata, fit_linear_180.param), label = \"Fit curve\")\n",
    "\n",
    "d = scatter(log_angle, log_error_270, xlabel=\"Non ideality angle [log(degree)]\", ylabel=\"std of the error [log(μK)]\", label = \"Simulated points ω=270°\")\n",
    "d = plot!(xdata, model_linear(xdata, fit_linear_270.param), label = \"Fit curve\")\n",
    "\n",
    "plot(a,b,c,d, layaut = (4,1), size = (1200,600), margin = 6*Plots.mm, plot_title=\"Wobble angles\")"
   ]
  },
  {
   "cell_type": "code",
   "execution_count": null,
   "metadata": {},
   "outputs": [],
   "source": []
  }
 ],
 "metadata": {
  "kernelspec": {
   "display_name": "Julia 1.8.2",
   "language": "julia",
   "name": "julia-1.8"
  },
  "language_info": {
   "file_extension": ".jl",
   "mimetype": "application/julia",
   "name": "julia",
   "version": "1.8.2"
  },
  "orig_nbformat": 4
 },
 "nbformat": 4,
 "nbformat_minor": 2
}
