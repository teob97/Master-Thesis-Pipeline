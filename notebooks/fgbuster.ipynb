{
 "cells": [
  {
   "cell_type": "code",
   "execution_count": 1,
   "metadata": {},
   "outputs": [],
   "source": [
    "using thesis, PRMaps\n",
    "using StatsPlots\n",
    "using Pandas\n",
    "using Healpix\n",
    "using StatsPlots\n",
    "using Plots\n",
    "using LinearAlgebra\n",
    "using Dates\n",
    "using HDF5, JLD\n",
    "\n",
    "import Stripeline as Sl"
   ]
  },
  {
   "cell_type": "code",
   "execution_count": 2,
   "metadata": {},
   "outputs": [
    {
     "data": {
      "text/html": [
       "<table border=\"1\" class=\"dataframe\">\n",
       "  <thead>\n",
       "    <tr style=\"text-align: right;\">\n",
       "      <th></th>\n",
       "      <th>instrument</th>\n",
       "      <th>frequency</th>\n",
       "      <th>depth_p</th>\n",
       "      <th>depth_i</th>\n",
       "    </tr>\n",
       "  </thead>\n",
       "  <tbody>\n",
       "    <tr>\n",
       "      <th>0</th>\n",
       "      <td>lfi</td>\n",
       "      <td>28.4</td>\n",
       "      <td>210.0</td>\n",
       "      <td>150.000000</td>\n",
       "    </tr>\n",
       "    <tr>\n",
       "      <th>0</th>\n",
       "      <td>LSPE/Strip</td>\n",
       "      <td>43.0</td>\n",
       "      <td>130.0</td>\n",
       "      <td>183.847763</td>\n",
       "    </tr>\n",
       "    <tr>\n",
       "      <th>2</th>\n",
       "      <td>LSPE/SWIPE</td>\n",
       "      <td>145.0</td>\n",
       "      <td>10.0</td>\n",
       "      <td>14.142136</td>\n",
       "    </tr>\n",
       "    <tr>\n",
       "      <th>3</th>\n",
       "      <td>LSPE/SWIPE</td>\n",
       "      <td>210.0</td>\n",
       "      <td>17.0</td>\n",
       "      <td>24.041631</td>\n",
       "    </tr>\n",
       "    <tr>\n",
       "      <th>4</th>\n",
       "      <td>LSPE/SWIPE</td>\n",
       "      <td>240.0</td>\n",
       "      <td>34.0</td>\n",
       "      <td>48.083261</td>\n",
       "    </tr>\n",
       "  </tbody>\n",
       "</table>\n"
      ],
      "text/plain": [
       "   instrument  frequency  depth_p     depth_i\n",
       "0         lfi       28.4    210.0  150.000000\n",
       "0  LSPE/Strip       43.0    130.0  183.847763\n",
       "2  LSPE/SWIPE      145.0     10.0   14.142136\n",
       "3  LSPE/SWIPE      210.0     17.0   24.041631\n",
       "4  LSPE/SWIPE      240.0     34.0   48.083261\n"
      ]
     },
     "metadata": {},
     "output_type": "display_data"
    }
   ],
   "source": [
    "#wmap = read_pickle(\"../instruments/wmap_instrument.pkl\")\n",
    "planck = read_pickle(\"../instruments/planck_instrument.pkl\")\n",
    "#quijote = read_pickle(\"../instruments/quijote_instrument.pkl\")\n",
    "swipe = read_pickle(\"../instruments/lspe_swipe_instrument.pkl\")\n",
    "strip = read_pickle(\"../instruments/lspe_strip_instrument.pkl\")\n",
    "\n",
    "strip = query(strip, :(frequency==43.0))\n",
    "planck = query(planck, :(frequency==28.4))\n",
    "\n",
    "columns = [\"instrument\", \"frequency\", \"depth_p\", \"depth_i\"]\n",
    "\n",
    "#instruments = concat([wmap, planck, quijote, swipe, strip])\n",
    "instruments = concat([planck, strip, swipe])\n",
    "\n",
    "instruments = instruments[columns]\n",
    "instruments"
   ]
  },
  {
   "cell_type": "code",
   "execution_count": 3,
   "metadata": {},
   "outputs": [],
   "source": [
    "nside = 64\n",
    "sky_model = \"c1s3d0\"\n",
    "t_start = DateTime(2022, 1, 1, 12, 0, 0)\n",
    "days = 10\n",
    "\n",
    "cam_ang = Sl.CameraAngles()\n",
    " \n",
    "setup = PRMaps.Setup(\n",
    "    sampling_freq_Hz = 50.0,\n",
    "    total_time_s = 24. * 3600. * days\n",
    "    )\n",
    "nothing"
   ]
  },
  {
   "attachments": {},
   "cell_type": "markdown",
   "metadata": {},
   "source": [
    "# Run simulation without the error"
   ]
  },
  {
   "cell_type": "code",
   "execution_count": 4,
   "metadata": {},
   "outputs": [],
   "source": [
    "result = run_fgbuster(instruments, cam_ang, setup, sky_model, nside, t_start)\n",
    "nothing"
   ]
  },
  {
   "cell_type": "code",
   "execution_count": 5,
   "metadata": {},
   "outputs": [
    {
     "data": {
      "text/plain": [
       "Dict{String, Dict{Any, Any}} with 1 entry:\n",
       "  \"ideal\" => Dict(\"nit\"=>13, \"x\"=>[1.57625, 18.5216, -3.02757, -0.00959544], \"h…"
      ]
     },
     "metadata": {},
     "output_type": "display_data"
    }
   ],
   "source": [
    "FINAL_RESULTS = Dict(\"ideal\"=>result)"
   ]
  },
  {
   "attachments": {},
   "cell_type": "markdown",
   "metadata": {},
   "source": [
    "# Run simulation with pointing error"
   ]
  },
  {
   "cell_type": "code",
   "execution_count": 6,
   "metadata": {},
   "outputs": [],
   "source": [
    "labels = [\"altitude_offset\" \"ground_offset\" \"fork\" \"zVAX&ω_0\" \"zVAX&ω_90\" \"zVAX&ω_180\" \"zVAX&ω_270\"]\n",
    "error = deg2rad(1.0/60.0)\n",
    "\n",
    "w2_TA = Sl.TelescopeAngles(wheel2ang_0_rad = error)\n",
    "w3_TA = Sl.TelescopeAngles(wheel3ang_0_rad = error)\n",
    "fork_TA = Sl.TelescopeAngles(forkang_rad = error)\n",
    "wω_TA_0 = Sl.TelescopeAngles(zVAXang_rad = error, ωVAXang_rad = deg2rad(0.0))\n",
    "wω_TA_90 = Sl.TelescopeAngles(zVAXang_rad = error, ωVAXang_rad = deg2rad(90.0))\n",
    "wω_TA_180 = Sl.TelescopeAngles(zVAXang_rad = error, ωVAXang_rad = deg2rad(180.0))\n",
    "wω_TA_270 = Sl.TelescopeAngles(zVAXang_rad = error, ωVAXang_rad = deg2rad(270.0))\n",
    "\n",
    "tel_angs = [w2_TA, w3_TA, fork_TA, wω_TA_0, wω_TA_90, wω_TA_180, wω_TA_270]\n",
    "\n",
    "nothing"
   ]
  },
  {
   "cell_type": "code",
   "execution_count": 7,
   "metadata": {},
   "outputs": [],
   "source": [
    "for (i, tel_ang) in enumerate(tel_angs) \n",
    "    FINAL_RESULTS[labels[i]] = run_fgbuster_with_error(instruments, cam_ang, tel_ang, setup, sky_model, nside, t_start)\n",
    "end"
   ]
  },
  {
   "cell_type": "code",
   "execution_count": 8,
   "metadata": {},
   "outputs": [],
   "source": [
    "# Salvare il dizionario con tutti i risultati\n",
    "JLD.save(\"fgbuster/result_strip_planck.jld\", FINAL_RESULTS)"
   ]
  },
  {
   "cell_type": "code",
   "execution_count": 9,
   "metadata": {},
   "outputs": [],
   "source": []
  }
 ],
 "metadata": {
  "kernelspec": {
   "display_name": "Julia 1.8.2",
   "language": "julia",
   "name": "julia-1.8"
  },
  "language_info": {
   "file_extension": ".jl",
   "mimetype": "application/julia",
   "name": "julia",
   "version": "1.8.2"
  },
  "orig_nbformat": 4
 },
 "nbformat": 4,
 "nbformat_minor": 2
}
