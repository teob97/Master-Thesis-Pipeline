{
 "cells": [
  {
   "cell_type": "code",
   "execution_count": 1,
   "metadata": {},
   "outputs": [],
   "source": [
    "using thesis, PRMaps\n",
    "using StatsPlots\n",
    "using Pandas\n",
    "using Healpix\n",
    "using StatsPlots\n",
    "using Plots\n",
    "using LinearAlgebra\n",
    "using Dates\n",
    "using HDF5, JLD\n",
    "\n",
    "import Stripeline as Sl"
   ]
  },
  {
   "cell_type": "code",
   "execution_count": 2,
   "metadata": {},
   "outputs": [
    {
     "data": {
      "text/html": [
       "<table border=\"1\" class=\"dataframe\">\n",
       "  <thead>\n",
       "    <tr style=\"text-align: right;\">\n",
       "      <th></th>\n",
       "      <th>instrument</th>\n",
       "      <th>frequency</th>\n",
       "      <th>depth_p</th>\n",
       "      <th>depth_i</th>\n",
       "    </tr>\n",
       "  </thead>\n",
       "  <tbody>\n",
       "    <tr>\n",
       "      <th>0</th>\n",
       "      <td>WMAP</td>\n",
       "      <td>22.69</td>\n",
       "      <td>294.697795</td>\n",
       "      <td>293.465609</td>\n",
       "    </tr>\n",
       "    <tr>\n",
       "      <th>1</th>\n",
       "      <td>WMAP</td>\n",
       "      <td>32.94</td>\n",
       "      <td>438.561419</td>\n",
       "      <td>296.828735</td>\n",
       "    </tr>\n",
       "    <tr>\n",
       "      <th>2</th>\n",
       "      <td>WMAP</td>\n",
       "      <td>40.72</td>\n",
       "      <td>500.985656</td>\n",
       "      <td>415.023172</td>\n",
       "    </tr>\n",
       "    <tr>\n",
       "      <th>3</th>\n",
       "      <td>WMAP</td>\n",
       "      <td>40.51</td>\n",
       "      <td>475.110192</td>\n",
       "      <td>393.646897</td>\n",
       "    </tr>\n",
       "    <tr>\n",
       "      <th>4</th>\n",
       "      <td>WMAP</td>\n",
       "      <td>60.09</td>\n",
       "      <td>554.721784</td>\n",
       "      <td>520.189018</td>\n",
       "    </tr>\n",
       "    <tr>\n",
       "      <th>5</th>\n",
       "      <td>WMAP</td>\n",
       "      <td>60.96</td>\n",
       "      <td>493.519146</td>\n",
       "      <td>462.909657</td>\n",
       "    </tr>\n",
       "    <tr>\n",
       "      <th>6</th>\n",
       "      <td>WMAP</td>\n",
       "      <td>92.87</td>\n",
       "      <td>783.584095</td>\n",
       "      <td>750.749159</td>\n",
       "    </tr>\n",
       "    <tr>\n",
       "      <th>7</th>\n",
       "      <td>WMAP</td>\n",
       "      <td>93.43</td>\n",
       "      <td>876.013202</td>\n",
       "      <td>839.182282</td>\n",
       "    </tr>\n",
       "    <tr>\n",
       "      <th>8</th>\n",
       "      <td>WMAP</td>\n",
       "      <td>92.44</td>\n",
       "      <td>926.757510</td>\n",
       "      <td>887.748258</td>\n",
       "    </tr>\n",
       "    <tr>\n",
       "      <th>9</th>\n",
       "      <td>WMAP</td>\n",
       "      <td>93.22</td>\n",
       "      <td>899.656576</td>\n",
       "      <td>861.132559</td>\n",
       "    </tr>\n",
       "    <tr>\n",
       "      <th>0</th>\n",
       "      <td>lfi</td>\n",
       "      <td>28.40</td>\n",
       "      <td>210.000000</td>\n",
       "      <td>150.000000</td>\n",
       "    </tr>\n",
       "    <tr>\n",
       "      <th>1</th>\n",
       "      <td>lfi</td>\n",
       "      <td>44.10</td>\n",
       "      <td>240.000000</td>\n",
       "      <td>162.000000</td>\n",
       "    </tr>\n",
       "    <tr>\n",
       "      <th>2</th>\n",
       "      <td>lfi</td>\n",
       "      <td>70.40</td>\n",
       "      <td>300.000000</td>\n",
       "      <td>210.000000</td>\n",
       "    </tr>\n",
       "    <tr>\n",
       "      <th>3</th>\n",
       "      <td>hfi</td>\n",
       "      <td>100.00</td>\n",
       "      <td>118.000000</td>\n",
       "      <td>77.400000</td>\n",
       "    </tr>\n",
       "    <tr>\n",
       "      <th>4</th>\n",
       "      <td>hfi</td>\n",
       "      <td>143.00</td>\n",
       "      <td>70.200000</td>\n",
       "      <td>33.000000</td>\n",
       "    </tr>\n",
       "    <tr>\n",
       "      <th>5</th>\n",
       "      <td>hfi</td>\n",
       "      <td>217.00</td>\n",
       "      <td>105.000000</td>\n",
       "      <td>46.800000</td>\n",
       "    </tr>\n",
       "    <tr>\n",
       "      <th>6</th>\n",
       "      <td>hfi</td>\n",
       "      <td>353.00</td>\n",
       "      <td>439.000000</td>\n",
       "      <td>154.000000</td>\n",
       "    </tr>\n",
       "    <tr>\n",
       "      <th>0</th>\n",
       "      <td>Quijote/MFT</td>\n",
       "      <td>11.00</td>\n",
       "      <td>1284.000000</td>\n",
       "      <td>4254.000000</td>\n",
       "    </tr>\n",
       "    <tr>\n",
       "      <th>1</th>\n",
       "      <td>Quijote/MFT</td>\n",
       "      <td>13.00</td>\n",
       "      <td>1122.000000</td>\n",
       "      <td>3492.000000</td>\n",
       "    </tr>\n",
       "    <tr>\n",
       "      <th>2</th>\n",
       "      <td>Quijote/MFT</td>\n",
       "      <td>17.00</td>\n",
       "      <td>966.000000</td>\n",
       "      <td>5880.000000</td>\n",
       "    </tr>\n",
       "    <tr>\n",
       "      <th>3</th>\n",
       "      <td>Quijote/MFT</td>\n",
       "      <td>17.00</td>\n",
       "      <td>1086.000000</td>\n",
       "      <td>6204.000000</td>\n",
       "    </tr>\n",
       "    <tr>\n",
       "      <th>4</th>\n",
       "      <td>Quijote/MFT</td>\n",
       "      <td>19.00</td>\n",
       "      <td>1314.000000</td>\n",
       "      <td>6900.000000</td>\n",
       "    </tr>\n",
       "    <tr>\n",
       "      <th>5</th>\n",
       "      <td>Quijote/MFT</td>\n",
       "      <td>19.00</td>\n",
       "      <td>1290.000000</td>\n",
       "      <td>7320.000000</td>\n",
       "    </tr>\n",
       "    <tr>\n",
       "      <th>2</th>\n",
       "      <td>LSPE/SWIPE</td>\n",
       "      <td>145.00</td>\n",
       "      <td>10.000000</td>\n",
       "      <td>14.142136</td>\n",
       "    </tr>\n",
       "    <tr>\n",
       "      <th>3</th>\n",
       "      <td>LSPE/SWIPE</td>\n",
       "      <td>210.00</td>\n",
       "      <td>17.000000</td>\n",
       "      <td>24.041631</td>\n",
       "    </tr>\n",
       "    <tr>\n",
       "      <th>4</th>\n",
       "      <td>LSPE/SWIPE</td>\n",
       "      <td>240.00</td>\n",
       "      <td>34.000000</td>\n",
       "      <td>48.083261</td>\n",
       "    </tr>\n",
       "    <tr>\n",
       "      <th>0</th>\n",
       "      <td>LSPE/Strip</td>\n",
       "      <td>43.00</td>\n",
       "      <td>130.000000</td>\n",
       "      <td>183.847763</td>\n",
       "    </tr>\n",
       "    <tr>\n",
       "      <th>1</th>\n",
       "      <td>LSPE/Strip</td>\n",
       "      <td>95.00</td>\n",
       "      <td>990.000000</td>\n",
       "      <td>1400.071427</td>\n",
       "    </tr>\n",
       "  </tbody>\n",
       "</table>\n"
      ],
      "text/plain": [
       "    instrument  frequency      depth_p      depth_i\n",
       "0         WMAP      22.69   294.697795   293.465609\n",
       "1         WMAP      32.94   438.561419   296.828735\n",
       "2         WMAP      40.72   500.985656   415.023172\n",
       "3         WMAP      40.51   475.110192   393.646897\n",
       "4         WMAP      60.09   554.721784   520.189018\n",
       "5         WMAP      60.96   493.519146   462.909657\n",
       "6         WMAP      92.87   783.584095   750.749159\n",
       "7         WMAP      93.43   876.013202   839.182282\n",
       "8         WMAP      92.44   926.757510   887.748258\n",
       "9         WMAP      93.22   899.656576   861.132559\n",
       "0          lfi      28.40   210.000000   150.000000\n",
       "1          lfi      44.10   240.000000   162.000000\n",
       "2          lfi      70.40   300.000000   210.000000\n",
       "3          hfi     100.00   118.000000    77.400000\n",
       "4          hfi     143.00    70.200000    33.000000\n",
       "5          hfi     217.00   105.000000    46.800000\n",
       "6          hfi     353.00   439.000000   154.000000\n",
       "0  Quijote/MFT      11.00  1284.000000  4254.000000\n",
       "1  Quijote/MFT      13.00  1122.000000  3492.000000\n",
       "2  Quijote/MFT      17.00   966.000000  5880.000000\n",
       "3  Quijote/MFT      17.00  1086.000000  6204.000000\n",
       "4  Quijote/MFT      19.00  1314.000000  6900.000000\n",
       "5  Quijote/MFT      19.00  1290.000000  7320.000000\n",
       "2   LSPE/SWIPE     145.00    10.000000    14.142136\n",
       "3   LSPE/SWIPE     210.00    17.000000    24.041631\n",
       "4   LSPE/SWIPE     240.00    34.000000    48.083261\n",
       "0   LSPE/Strip      43.00   130.000000   183.847763\n",
       "1   LSPE/Strip      95.00   990.000000  1400.071427\n"
      ]
     },
     "metadata": {},
     "output_type": "display_data"
    }
   ],
   "source": [
    "wmap = read_pickle(\"../instruments/wmap_instrument.pkl\")\n",
    "planck = read_pickle(\"../instruments/planck_instrument.pkl\")\n",
    "quijote = read_pickle(\"../instruments/quijote_instrument.pkl\")\n",
    "swipe = read_pickle(\"../instruments/lspe_swipe_instrument.pkl\")\n",
    "strip = read_pickle(\"../instruments/lspe_strip_instrument.pkl\")\n",
    "\n",
    "columns = [\"instrument\", \"frequency\", \"depth_p\", \"depth_i\"]\n",
    "\n",
    "instruments = concat([wmap, planck, quijote, swipe, strip])\n",
    "instruments = instruments[columns]\n",
    "instruments"
   ]
  },
  {
   "cell_type": "code",
   "execution_count": 3,
   "metadata": {},
   "outputs": [],
   "source": [
    "nside = 64\n",
    "sky_model = \"c1s0d0\"\n",
    "t_start = DateTime(2022, 1, 1, 12, 0, 0)\n",
    "\n",
    "cam_ang = Sl.CameraAngles()\n",
    " \n",
    "setup = PRMaps.Setup(\n",
    "    sampling_freq_Hz = 50,\n",
    "    total_time_s = 24. * 3600. * 10.\n",
    "    )\n",
    "nothing"
   ]
  },
  {
   "attachments": {},
   "cell_type": "markdown",
   "metadata": {},
   "source": [
    "# Run simulation without the error"
   ]
  },
  {
   "cell_type": "code",
   "execution_count": 4,
   "metadata": {},
   "outputs": [],
   "source": [
    "result = run_fgbuster(instruments, cam_ang, setup, sky_model, nside, t_start)\n",
    "nothing"
   ]
  },
  {
   "cell_type": "code",
   "execution_count": 5,
   "metadata": {},
   "outputs": [
    {
     "data": {
      "text/plain": [
       "Dict{String, Dict{Any, Any}} with 1 entry:\n",
       "  \"ideal\" => Dict(\"nit\"=>8, \"x\"=>[1.54989, 19.6184, -2.99867], \"hess_inv\"=>[0.0…"
      ]
     },
     "metadata": {},
     "output_type": "display_data"
    }
   ],
   "source": [
    "FINAL_RESULTS = Dict(\"ideal\"=>result)"
   ]
  },
  {
   "attachments": {},
   "cell_type": "markdown",
   "metadata": {},
   "source": [
    "# Run simulation with pointing error"
   ]
  },
  {
   "cell_type": "code",
   "execution_count": 6,
   "metadata": {},
   "outputs": [],
   "source": [
    "labels = [\"altitude_offset\" \"ground_offset\" \"fork\" \"zVAX&ω_0\" \"zVAX&ω_90\" \"zVAX&ω_180\" \"zVAX&ω_270\"]\n",
    "error = deg2rad(1.0/60.0)\n",
    "\n",
    "w2_TA = Sl.TelescopeAngles(wheel2ang_0_rad = error)\n",
    "w3_TA = Sl.TelescopeAngles(wheel3ang_0_rad = error)\n",
    "fork_TA = Sl.TelescopeAngles(forkang_rad = error)\n",
    "wω_TA_0 = Sl.TelescopeAngles(zVAXang_rad = error, ωVAXang_rad = deg2rad(0.0))\n",
    "wω_TA_90 = Sl.TelescopeAngles(zVAXang_rad = error, ωVAXang_rad = deg2rad(90.0))\n",
    "wω_TA_180 = Sl.TelescopeAngles(zVAXang_rad = error, ωVAXang_rad = deg2rad(180.0))\n",
    "wω_TA_270 = Sl.TelescopeAngles(zVAXang_rad = error, ωVAXang_rad = deg2rad(270.0))\n",
    "\n",
    "tel_angs = [w2_TA, w3_TA, fork_TA, wω_TA_0, wω_TA_90, wω_TA_180, wω_TA_270]\n",
    "\n",
    "nothing"
   ]
  },
  {
   "cell_type": "code",
   "execution_count": 12,
   "metadata": {},
   "outputs": [
    {
     "name": "stdout",
     "output_type": "stream",
     "text": [
      "altitude_offset Completato!\n"
     ]
    },
    {
     "name": "stdout",
     "output_type": "stream",
     "text": [
      "ground_offset Completato!\n"
     ]
    },
    {
     "name": "stdout",
     "output_type": "stream",
     "text": [
      "fork Completato!\n"
     ]
    },
    {
     "name": "stdout",
     "output_type": "stream",
     "text": [
      "zVAX&ω_0 Completato!\n"
     ]
    },
    {
     "name": "stdout",
     "output_type": "stream",
     "text": [
      "zVAX&ω_90 Completato!\n"
     ]
    },
    {
     "name": "stdout",
     "output_type": "stream",
     "text": [
      "zVAX&ω_180 Completato!\n"
     ]
    },
    {
     "name": "stdout",
     "output_type": "stream",
     "text": [
      "zVAX&ω_270 Completato!\n"
     ]
    }
   ],
   "source": [
    "for (i, tel_ang) in enumerate(tel_angs) \n",
    "    FINAL_RESULTS[labels[i]] = run_fgbuster_with_error(instruments, cam_ang, tel_ang, setup, sky_model, nside, t_start)\n",
    "    println(labels[i]*\" Completato!\")\n",
    "end"
   ]
  },
  {
   "cell_type": "code",
   "execution_count": 13,
   "metadata": {},
   "outputs": [],
   "source": [
    "# Salvare il dizionario con tutti i risultati"
   ]
  },
  {
   "cell_type": "code",
   "execution_count": 10,
   "metadata": {},
   "outputs": [],
   "source": []
  },
  {
   "cell_type": "code",
   "execution_count": 11,
   "metadata": {},
   "outputs": [],
   "source": []
  }
 ],
 "metadata": {
  "kernelspec": {
   "display_name": "Julia 1.8.2",
   "language": "julia",
   "name": "julia-1.8"
  },
  "language_info": {
   "file_extension": ".jl",
   "mimetype": "application/julia",
   "name": "julia",
   "version": "1.8.2"
  },
  "orig_nbformat": 4
 },
 "nbformat": 4,
 "nbformat_minor": 2
}
