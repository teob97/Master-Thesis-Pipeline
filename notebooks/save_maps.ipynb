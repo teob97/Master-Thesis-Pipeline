{
 "cells": [
  {
   "cell_type": "code",
   "execution_count": 1,
   "metadata": {},
   "outputs": [],
   "source": [
    "using Dates\n",
    "using PRMaps\n",
    "using Plots\n",
    "using Healpix\n",
    "\n",
    "using thesis\n",
    "\n",
    "import Pandas as Pd\n",
    "import Stripeline as Sl"
   ]
  },
  {
   "cell_type": "code",
   "execution_count": 2,
   "metadata": {},
   "outputs": [
    {
     "ename": "MethodError",
     "evalue": "MethodError: no method matching Stripeline.TelescopeAngles(; wheelang2_0_rad=0.0002908882086657216)\nClosest candidates are:\n  Stripeline.TelescopeAngles(; wheel1ang_0_rad, wheel2ang_0_rad, wheel3ang_0_rad, forkang_rad, ωVAXang_rad, zVAXang_rad) at util.jl:493 got unsupported keyword argument \"wheelang2_0_rad\"\n  Stripeline.TelescopeAngles(!Matched::Float64, !Matched::Float64, !Matched::Float64, !Matched::Float64, !Matched::Float64, !Matched::Float64) at ~/.julia/packages/Stripeline/JpMBp/src/scanning.jl:126 got unsupported keyword argument \"wheelang2_0_rad\"\n  Stripeline.TelescopeAngles(!Matched::Any, !Matched::Any, !Matched::Any, !Matched::Any, !Matched::Any, !Matched::Any) at ~/.julia/packages/Stripeline/JpMBp/src/scanning.jl:126 got unsupported keyword argument \"wheelang2_0_rad\"",
     "output_type": "error",
     "traceback": [
      "MethodError: no method matching Stripeline.TelescopeAngles(; wheelang2_0_rad=0.0002908882086657216)\n",
      "Closest candidates are:\n",
      "  Stripeline.TelescopeAngles(; wheel1ang_0_rad, wheel2ang_0_rad, wheel3ang_0_rad, forkang_rad, ωVAXang_rad, zVAXang_rad) at util.jl:493 got unsupported keyword argument \"wheelang2_0_rad\"\n",
      "  Stripeline.TelescopeAngles(!Matched::Float64, !Matched::Float64, !Matched::Float64, !Matched::Float64, !Matched::Float64, !Matched::Float64) at ~/.julia/packages/Stripeline/JpMBp/src/scanning.jl:126 got unsupported keyword argument \"wheelang2_0_rad\"\n",
      "  Stripeline.TelescopeAngles(!Matched::Any, !Matched::Any, !Matched::Any, !Matched::Any, !Matched::Any, !Matched::Any) at ~/.julia/packages/Stripeline/JpMBp/src/scanning.jl:126 got unsupported keyword argument \"wheelang2_0_rad\"\n",
      "\n",
      "Stacktrace:\n",
      " [1] kwerr(kw::NamedTuple{(:wheelang2_0_rad,), Tuple{Float64}}, args::Type)\n",
      "   @ Base ./error.jl:165\n",
      " [2] top-level scope\n",
      "   @ /mnt/sda1/Università/Magistrale/Tesi/thesis/notebooks/save_maps.ipynb:14"
     ]
    }
   ],
   "source": [
    "t_start = DateTime(2022, 1, 1, 12, 0, 0)\n",
    "\n",
    "sky_model = \"c1s0d0\"\n",
    "nside = 512\n",
    "obs_days = 365\n",
    " \n",
    "setup = PRMaps.Setup(\n",
    "    sampling_freq_Hz = 50.,\n",
    "    total_time_s = 24. * 3600. * obs_days\n",
    ")\n",
    "\n",
    "camera = Sl.CameraAngles()\n",
    "\n",
    "tel_ang = Sl.TelescopeAngles(\n",
    "    wheel2ang_0_rad = deg2rad(1.0/60.0)\n",
    ")"
   ]
  },
  {
   "cell_type": "code",
   "execution_count": 3,
   "metadata": {},
   "outputs": [],
   "source": [
    "strip = Pd.query(Pd.read_pickle(\"../instruments/lspe_strip_instrument.pkl\"), :(frequency==43.0))\n",
    "signal = get_foreground_maps(strip, sky_model, nside)[1]\n",
    "nothing"
   ]
  },
  {
   "cell_type": "code",
   "execution_count": null,
   "metadata": {},
   "outputs": [],
   "source": [
    "ideal, pixel = makeErroredMapIQU(camera, tel_ang, signal, setup, t_start)"
   ]
  },
  {
   "cell_type": "code",
   "execution_count": null,
   "metadata": {},
   "outputs": [],
   "source": [
    "plot(ideal.q)"
   ]
  },
  {
   "cell_type": "code",
   "execution_count": null,
   "metadata": {},
   "outputs": [],
   "source": [
    "prova = Healpix.PolarizedHealpixMap{Float64, RingOrder}(512)\n",
    "prova = ideal\n",
    "Healpix.saveToFITS(prova, \"maps_365days/altitude.fits\", typechar=\"D\", extname=\"MAP\")"
   ]
  },
  {
   "cell_type": "code",
   "execution_count": null,
   "metadata": {},
   "outputs": [],
   "source": [
    "a = readPolarizedMapFromFITS(\"maps_365days/altitude.fits\", 1, Float64)\n",
    "plot(a.i)"
   ]
  },
  {
   "cell_type": "code",
   "execution_count": null,
   "metadata": {},
   "outputs": [],
   "source": []
  }
 ],
 "metadata": {
  "kernelspec": {
   "display_name": "Julia 1.8.2",
   "language": "julia",
   "name": "julia-1.8"
  },
  "language_info": {
   "file_extension": ".jl",
   "mimetype": "application/julia",
   "name": "julia",
   "version": "1.8.2"
  },
  "orig_nbformat": 4
 },
 "nbformat": 4,
 "nbformat_minor": 2
}
