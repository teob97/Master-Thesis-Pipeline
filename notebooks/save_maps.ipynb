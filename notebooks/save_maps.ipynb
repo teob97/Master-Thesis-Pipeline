{
 "cells": [
  {
   "cell_type": "code",
   "execution_count": 1,
   "metadata": {},
   "outputs": [],
   "source": [
    "using Dates\n",
    "using PRMaps\n",
    "using Plots\n",
    "using Healpix\n",
    "\n",
    "using thesis\n",
    "\n",
    "import Pandas as Pd\n",
    "import Stripeline as Sl"
   ]
  },
  {
   "cell_type": "code",
   "execution_count": 2,
   "metadata": {},
   "outputs": [
    {
     "data": {
      "text/plain": [
       "save (generic function with 1 method)"
      ]
     },
     "metadata": {},
     "output_type": "display_data"
    }
   ],
   "source": [
    "function pipeline_save(error)\n",
    "        \n",
    "    t_start = DateTime(2022, 1, 1, 12, 0, 0)\n",
    "    sky_model = \"s0\"\n",
    "    nside = 512\n",
    "    obs_days = 10\n",
    "     \n",
    "    setup = PRMaps.Setup(\n",
    "        sampling_freq_Hz = 50.,\n",
    "        total_time_s = 24. * 3600. * obs_days\n",
    "    )\n",
    "\n",
    "    strip = Pd.query(Pd.read_pickle(\"../instruments/lspe_strip_instrument.pkl\"), :(frequency==43.0))\n",
    "    signal = get_foreground_maps(strip, sky_model, nside)[1]\n",
    "\n",
    "    # We simulate the I0 horn that point towards [0.0,0.0,1.0]\n",
    "    cam_ang = Sl.CameraAngles()\n",
    "    \n",
    "    ideal_map, _ = makeIdealMapIQU(cam_ang, signal, setup, t_start)\n",
    "    \n",
    "    w2_TA = Sl.TelescopeAngles(wheel2ang_0_rad = error)\n",
    "    w3_TA = Sl.TelescopeAngles(wheel3ang_0_rad = error)\n",
    "    fork_TA = Sl.TelescopeAngles(forkang_rad = error)\n",
    "    wω_TA_0 = Sl.TelescopeAngles(zVAXang_rad = error, ωVAXang_rad = deg2rad(0.0))\n",
    "    wω_TA_90 = Sl.TelescopeAngles(zVAXang_rad = error, ωVAXang_rad = deg2rad(90.0))\n",
    "    wω_TA_180 = Sl.TelescopeAngles(zVAXang_rad = error, ωVAXang_rad = deg2rad(180.0))\n",
    "    wω_TA_270 = Sl.TelescopeAngles(zVAXang_rad = error, ωVAXang_rad = deg2rad(270.0))\n",
    "\n",
    "\n",
    "    w2_Map, w2_hit = makeErroredMapIQU(cam_ang, w2_TA, signal, setup, t_start)\n",
    "    w3_Map, w3_hit = makeErroredMapIQU(cam_ang, w3_TA, signal, setup, t_start)\n",
    "    fork_Map, fork_hit = makeErroredMapIQU(cam_ang, fork_TA, signal, setup, t_start)\n",
    "    wω0_Map, wω0_hit = makeErroredMapIQU(cam_ang, wω_TA_0, signal, setup, t_start)\n",
    "    wω90_Map, wω90_hit = makeErroredMapIQU(cam_ang, wω_TA_90, signal, setup, t_start)\n",
    "    wω180_Map, wω180_hit = makeErroredMapIQU(cam_ang, wω_TA_180, signal, setup, t_start)\n",
    "    wω270_Map, wω270_hit = makeErroredMapIQU(cam_ang, wω_TA_270, signal, setup, t_start)\n",
    "\n",
    "    errored_maps = [w2_Map, w3_Map, fork_Map, wω0_Map, wω90_Map, wω180_Map, wω270_Map]\n",
    "    errored_hit = [w2_hit, w3_hit, fork_hit, wω0_hit, wω90_hit, wω180_hit, wω270_hit]\n",
    "    return (errored_maps, errored_hit, ideal_map)\n",
    "end\n",
    "\n",
    "function save(error)\n",
    "    (errored, hit, ideal) = pipeline_save(error)\n",
    "    saveToFITS(ideal, \"!maps/maps/ideal.fits\")\n",
    "    labels = [\"altitude_offset\" \"ground_offset\" \"fork\" \"zVAX&ω_0\" \"zVAX&ω_90\" \"zVAX&ω_180\" \"zVAX&ω_270\"]\n",
    "    for (i, map) in enumerate(errored)\n",
    "        name = \"!maps/maps/\"*labels[i]*\".fits\"\n",
    "        name_hit = \"!maps/hit_maps/\"*labels[i]*\"_hit.fits\"\n",
    "        saveToFITS(map, name)\n",
    "        saveToFITS(hit[i], name_hit)\n",
    "    end\n",
    "end"
   ]
  },
  {
   "cell_type": "code",
   "execution_count": 3,
   "metadata": {},
   "outputs": [],
   "source": [
    "save(deg2rad(1.0/60))"
   ]
  },
  {
   "cell_type": "code",
   "execution_count": null,
   "metadata": {},
   "outputs": [],
   "source": []
  }
 ],
 "metadata": {
  "kernelspec": {
   "display_name": "Julia 1.8.2",
   "language": "julia",
   "name": "julia-1.8"
  },
  "language_info": {
   "file_extension": ".jl",
   "mimetype": "application/julia",
   "name": "julia",
   "version": "1.8.2"
  },
  "orig_nbformat": 4
 },
 "nbformat": 4,
 "nbformat_minor": 2
}
