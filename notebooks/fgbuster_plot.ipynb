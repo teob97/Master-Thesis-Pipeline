{
 "cells": [
  {
   "cell_type": "code",
   "execution_count": null,
   "metadata": {},
   "outputs": [],
   "source": [
    "par_name = result[\"params\"]\n",
    "par_val = result[\"x\"]\n",
    "par_error = sqrt.(diag(result[\"Sigma\"]))\n",
    "\n",
    "for i in 1:3\n",
    "    name = par_name[i]\n",
    "    val = round(par_val[i]; digits = 4)\n",
    "    err = round(par_error[i]; digits = 4)\n",
    "    println(\"$name : $val ⨦ $err\")\n",
    "end\n",
    "\n",
    "Plots.plot(get_corrplot(result))\n",
    "Plots.plot(get_map_and_hist(result, \"Q\", nside))"
   ]
  }
 ],
 "metadata": {
  "kernelspec": {
   "display_name": "Julia 1.8.2",
   "language": "julia",
   "name": "julia-1.8"
  },
  "language_info": {
   "file_extension": ".jl",
   "mimetype": "application/julia",
   "name": "julia",
   "version": "1.8.2"
  },
  "orig_nbformat": 4,
  "vscode": {
   "interpreter": {
    "hash": "916dbcbb3f70747c44a77c7bcd40155683ae19c65e1c03b4aa3499c5328201f1"
   }
  }
 },
 "nbformat": 4,
 "nbformat_minor": 2
}
