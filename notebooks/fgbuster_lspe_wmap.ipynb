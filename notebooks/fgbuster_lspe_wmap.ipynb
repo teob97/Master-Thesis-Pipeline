{
 "cells": [
  {
   "cell_type": "code",
   "execution_count": 1,
   "metadata": {},
   "outputs": [],
   "source": [
    "using thesis, PRMaps\n",
    "using Pandas\n",
    "using Healpix\n",
    "using Dates\n",
    "using FileIO, JLD2\n",
    "\n",
    "import Stripeline as Sl"
   ]
  },
  {
   "cell_type": "code",
   "execution_count": 2,
   "metadata": {},
   "outputs": [
    {
     "data": {
      "text/plain": [
       "run (generic function with 1 method)"
      ]
     },
     "metadata": {},
     "output_type": "display_data"
    }
   ],
   "source": [
    "function run(instruments, name)\n",
    "\n",
    "    nside = 256\n",
    "    sky_model = \"c1s0d0\"\n",
    "    t_start = DateTime(2022, 1, 1, 12, 0, 0)\n",
    "    days = 10\n",
    "\n",
    "    error = [deg2rad(1.0/60), deg2rad(0.5/60), deg2rad(1.0/3600)]\n",
    "    error_label = [\"60arcsec\", \"30arcsec\", \"1arcsec\"]\n",
    "\n",
    "    cam_ang = Sl.CameraAngles()\n",
    "    \n",
    "    setup = PRMaps.Setup(\n",
    "        sampling_freq_Hz = 50.0,\n",
    "        total_time_s = 24. * 3600. * days\n",
    "    )\n",
    "\n",
    "    labels = [\"altitude_offset\" \"ground_offset\" \"fork\" \"zVAX&ω_0\" \"zVAX&ω_90\" \"zVAX&ω_180\" \"zVAX&ω_270\"]\n",
    "\n",
    "    for (k, err) in enumerate(error)\n",
    "        FINAL_RESULTS = Dict()\n",
    "\n",
    "        # Run ideal simulation\n",
    "        (ideal_dict, ideal_map) = run_fgbuster_with_error(instruments, cam_ang, Sl.TelescopeAngles(), setup, sky_model, nside, t_start)\n",
    "        FINAL_RESULTS = Dict(\"ideal\"=>ideal_dict)\n",
    "        JLD2.save_object(\"fgbuster/\"*sky_model*\"/maps/\"*name*\"/\"*error_label[k]*\"_ideal.jld2\", ideal_map)\n",
    "\n",
    "        # Run errored simulation\n",
    "\n",
    "        w2_TA = Sl.TelescopeAngles(wheel2ang_0_rad = err)\n",
    "        w3_TA = Sl.TelescopeAngles(wheel3ang_0_rad = err)\n",
    "        fork_TA = Sl.TelescopeAngles(forkang_rad = err)\n",
    "        wω_TA_0 = Sl.TelescopeAngles(zVAXang_rad = err, ωVAXang_rad = deg2rad(0.0))\n",
    "        wω_TA_90 = Sl.TelescopeAngles(zVAXang_rad = err, ωVAXang_rad = deg2rad(90.0))\n",
    "        wω_TA_180 = Sl.TelescopeAngles(zVAXang_rad = err, ωVAXang_rad = deg2rad(180.0))\n",
    "        wω_TA_270 = Sl.TelescopeAngles(zVAXang_rad = err, ωVAXang_rad = deg2rad(270.0))\n",
    "\n",
    "        tel_angs = [w2_TA, w3_TA, fork_TA, wω_TA_0, wω_TA_90, wω_TA_180, wω_TA_270]\n",
    "\n",
    "        for (i, tel_ang) in enumerate(tel_angs)\n",
    "            (result_dict, result_map) = run_fgbuster_with_error(instruments, cam_ang, tel_ang, setup, sky_model, nside, t_start) \n",
    "            FINAL_RESULTS[labels[i]] = result_dict\n",
    "            JLD2.save_object(\"fgbuster/\"*sky_model*\"/maps/\"*name*\"/\"*error_label[k]*\"_\"*labels[i]*\".jld2\", result_map)\n",
    "        end\n",
    "\n",
    "        # Salvare il dizionario con tutti i risultati\n",
    "        FileIO.save(\"fgbuster/\"*sky_model*\"/results_\"*name*\"_\"*error_label[k]*\".jld2\", FINAL_RESULTS)\n",
    "    end\n",
    "end"
   ]
  },
  {
   "attachments": {},
   "cell_type": "markdown",
   "metadata": {},
   "source": [
    "# Run LSPe + WMAP"
   ]
  },
  {
   "cell_type": "code",
   "execution_count": 3,
   "metadata": {},
   "outputs": [
    {
     "data": {
      "text/html": [
       "<table border=\"1\" class=\"dataframe\">\n",
       "  <thead>\n",
       "    <tr style=\"text-align: right;\">\n",
       "      <th></th>\n",
       "      <th>instrument</th>\n",
       "      <th>frequency</th>\n",
       "      <th>depth_p</th>\n",
       "      <th>depth_i</th>\n",
       "    </tr>\n",
       "  </thead>\n",
       "  <tbody>\n",
       "    <tr>\n",
       "      <th>0</th>\n",
       "      <td>WMAP</td>\n",
       "      <td>22.69</td>\n",
       "      <td>294.697795</td>\n",
       "      <td>293.465609</td>\n",
       "    </tr>\n",
       "    <tr>\n",
       "      <th>0</th>\n",
       "      <td>LSPE/Strip</td>\n",
       "      <td>43.00</td>\n",
       "      <td>130.000000</td>\n",
       "      <td>183.847763</td>\n",
       "    </tr>\n",
       "    <tr>\n",
       "      <th>1</th>\n",
       "      <td>LSPE/Strip</td>\n",
       "      <td>95.00</td>\n",
       "      <td>990.000000</td>\n",
       "      <td>1400.071427</td>\n",
       "    </tr>\n",
       "    <tr>\n",
       "      <th>2</th>\n",
       "      <td>LSPE/SWIPE</td>\n",
       "      <td>145.00</td>\n",
       "      <td>10.000000</td>\n",
       "      <td>14.142136</td>\n",
       "    </tr>\n",
       "    <tr>\n",
       "      <th>3</th>\n",
       "      <td>LSPE/SWIPE</td>\n",
       "      <td>210.00</td>\n",
       "      <td>17.000000</td>\n",
       "      <td>24.041631</td>\n",
       "    </tr>\n",
       "    <tr>\n",
       "      <th>4</th>\n",
       "      <td>LSPE/SWIPE</td>\n",
       "      <td>240.00</td>\n",
       "      <td>34.000000</td>\n",
       "      <td>48.083261</td>\n",
       "    </tr>\n",
       "  </tbody>\n",
       "</table>\n"
      ],
      "text/plain": [
       "   instrument  frequency     depth_p      depth_i\n",
       "0        WMAP      22.69  294.697795   293.465609\n",
       "0  LSPE/Strip      43.00  130.000000   183.847763\n",
       "1  LSPE/Strip      95.00  990.000000  1400.071427\n",
       "2  LSPE/SWIPE     145.00   10.000000    14.142136\n",
       "3  LSPE/SWIPE     210.00   17.000000    24.041631\n",
       "4  LSPE/SWIPE     240.00   34.000000    48.083261\n"
      ]
     },
     "metadata": {},
     "output_type": "display_data"
    }
   ],
   "source": [
    "wmap = read_pickle(\"../instruments/wmap_instrument.pkl\")\n",
    "#planck = read_pickle(\"../instruments/planck_instrument.pkl\")\n",
    "#quijote = read_pickle(\"../instruments/quijote_instrument.pkl\")\n",
    "swipe = read_pickle(\"../instruments/lspe_swipe_instrument.pkl\")\n",
    "strip = read_pickle(\"../instruments/lspe_strip_instrument.pkl\")\n",
    "\n",
    "#strip = Pandas.query(strip, :(frequency==43.0))\n",
    "wmap = Pandas.query(wmap, :(frequency==22.69))\n",
    "#planck = Pandas.query(planck, :(frequency==28.4))\n",
    "\n",
    "columns = [\"instrument\", \"frequency\", \"depth_p\", \"depth_i\"]\n",
    "\n",
    "#instruments = concat([wmap, planck, quijote, swipe, strip])\n",
    "instruments = concat([wmap, strip, swipe])\n",
    "\n",
    "instruments = instruments[columns]\n",
    "instruments"
   ]
  },
  {
   "cell_type": "code",
   "execution_count": 4,
   "metadata": {},
   "outputs": [],
   "source": [
    "run(instruments, \"lspe_wmap\")"
   ]
  },
  {
   "cell_type": "code",
   "execution_count": null,
   "metadata": {},
   "outputs": [],
   "source": []
  }
 ],
 "metadata": {
  "kernelspec": {
   "display_name": "Julia 1.8.2",
   "language": "julia",
   "name": "julia-1.8"
  },
  "language_info": {
   "file_extension": ".jl",
   "mimetype": "application/julia",
   "name": "julia",
   "version": "1.8.2"
  },
  "orig_nbformat": 4
 },
 "nbformat": 4,
 "nbformat_minor": 2
}
